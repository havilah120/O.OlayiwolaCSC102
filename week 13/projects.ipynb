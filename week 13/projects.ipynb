{
 "cells": [
  {
   "cell_type": "code",
   "execution_count": 53,
   "metadata": {},
   "outputs": [
    {
     "name": "stdout",
     "output_type": "stream",
     "text": [
      "Welcome to SIMS\n",
      "  Student Name  Matric.Number Department   Level\n",
      "0         wemi           2332        csc  100lvl\n"
     ]
    }
   ],
   "source": [
    "import pandas as pd\n",
    "class student():\n",
    " def __init__ (self):\n",
    "    self.records = []\n",
    "\n",
    " def PAUSIMS(self, name, number, department, level):\n",
    "  PAUSIMS = {\n",
    "    'Student Name': name,\n",
    "    'Matric.Number': number,\n",
    "    'Department': department,\n",
    "    'Level': level\n",
    "    }\n",
    "  self.records.append(PAUSIMS)\n",
    "  df = pd.DataFrame(self.records)\n",
    "  df.to_csv('PAUSIMS.csv')\n",
    "  print(df)\n",
    "\n",
    "print(\"Welcome to SIMS\")\n",
    "question = int(input(\"how many Students are using this program?\"))\n",
    "result = student()\n",
    "for i in range (question):\n",
    "  name = str(input(\"Input your Name:\\n\"))\n",
    "  number = int(input(\"Input ypur Matric Number:\\n\"))\n",
    "  department = str(input(\"Input your Department:\\n\"))\n",
    "  level = str(input(\"Input your Level:\\n\"))\n",
    "  result.PAUSIMS(name, number, department, level)\n",
    "result.PAUSIMS\n",
    "\n",
    "\n"
   ]
  },
  {
   "cell_type": "code",
   "execution_count": 32,
   "metadata": {},
   "outputs": [],
   "source": [
    "import pandas as pd\n",
    "   \n",
    "records = {\n",
    "    'Company':[\"Enron corporation\", \"Anderson corporation\", \"GK Jones\", \"Mica\",\"Dune Industries\"],\n",
    "    'Year Founded': [1987, 1936, 2001, 1996, 2008],\n",
    "    'Assets': [1000000, 1500000, 3000000 , 250000, 800000],\n",
    "    'Company Liability': [200000, 500000, 1500000, 50000, 300000],\n",
    "    'Percentage Leverage': [\"0.8%\", \"0.67%\", \"0.5%\",\"0.8%\" , \"0.625ss%\"]\n",
    "}\n",
    "  \n",
    "# creating a dataframe from a dictionary \n",
    "df = pd.DataFrame(records)\n",
    "\n",
    "# saving the dataframe\n",
    "df.to_csv('record.csv')"
   ]
  }
 ],
 "metadata": {
  "kernelspec": {
   "display_name": "Python 3",
   "language": "python",
   "name": "python3"
  },
  "language_info": {
   "codemirror_mode": {
    "name": "ipython",
    "version": 3
   },
   "file_extension": ".py",
   "mimetype": "text/x-python",
   "name": "python",
   "nbconvert_exporter": "python",
   "pygments_lexer": "ipython3",
   "version": "3.11.2"
  },
  "orig_nbformat": 4
 },
 "nbformat": 4,
 "nbformat_minor": 2
}
